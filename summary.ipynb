{
 "cells": [
  {
   "cell_type": "code",
   "execution_count": 3,
   "metadata": {},
   "outputs": [],
   "source": [
    "import numpy as np\n",
    "import sympy as sp\n",
    "import matplotlib.pyplot as plt"
   ]
  },
  {
   "cell_type": "markdown",
   "metadata": {
    "vscode": {
     "languageId": "plaintext"
    }
   },
   "source": [
    "### Methods"
   ]
  },
  {
   "cell_type": "markdown",
   "metadata": {},
   "source": [
    "własne"
   ]
  },
  {
   "cell_type": "code",
   "execution_count": null,
   "metadata": {},
   "outputs": [],
   "source": [
    "# one dimensional for bias an line\n",
    "def gradient_descent(x, y, cost_function, d_cost_function, iterations = 100, learning_rate = 0.0001, stopping_threshold = 1e-6):\n",
    "    \n",
    "    # initial values \n",
    "    n = len(y)\n",
    "    x_n = [0.1] * n\n",
    "    # return values \n",
    "    error = []\n",
    "    x_series = []\n",
    "    prev_err = None\n",
    "    \n",
    "    # estimation of optimal parameters\n",
    "    for i in range(iterations):\n",
    "        # calculating prediction \n",
    "        y_predicted = (current_weight * x) + current_bias\n",
    "\n",
    "        # calculating the current cost\n",
    "        current_cost = cost_function(y, y_predicted)\n",
    "\n",
    "        # stopping threshold if cost started raising \n",
    "        if previous_cost and abs(current_cost - previous_cost) <= stopping_threshold:\n",
    "            break\n",
    "\n",
    "        # actulization of parameters (last iteration WHICH was used)\n",
    "        previous_cost = current_cost\n",
    "        weights.append(current_weight)\n",
    "\n",
    "\n",
    "        # updating weights and bias (tutaj nie zadziała bo liczy bias odzielnie ale ta funkcja powinna być na n argumentóœ )\n",
    "        current_weight = current_weight - learning_rate * d_cost_function(current_cost)\n",
    "\n",
    "\n"
   ]
  },
  {
   "cell_type": "markdown",
   "metadata": {},
   "source": [
    "zaimplementowane w optimize "
   ]
  },
  {
   "cell_type": "code",
   "execution_count": null,
   "metadata": {},
   "outputs": [],
   "source": []
  },
  {
   "cell_type": "markdown",
   "metadata": {},
   "source": [
    "### Tests"
   ]
  },
  {
   "cell_type": "markdown",
   "metadata": {},
   "source": [
    "RSS (residual sum of squares) method "
   ]
  },
  {
   "cell_type": "code",
   "execution_count": null,
   "metadata": {},
   "outputs": [],
   "source": [
    "def RSS(y_true, y_predicted):\n",
    "    cost = np.sum((y_true - y_predicted)**2) / len(y_true)\n",
    "    return cost \n",
    "\n"
   ]
  },
  {
   "cell_type": "markdown",
   "metadata": {},
   "source": [
    "Wykorzystująć wbudowane "
   ]
  }
 ],
 "metadata": {
  "kernelspec": {
   "display_name": "Python 3",
   "language": "python",
   "name": "python3"
  },
  "language_info": {
   "codemirror_mode": {
    "name": "ipython",
    "version": 3
   },
   "file_extension": ".py",
   "mimetype": "text/x-python",
   "name": "python",
   "nbconvert_exporter": "python",
   "pygments_lexer": "ipython3",
   "version": "3.12.7"
  }
 },
 "nbformat": 4,
 "nbformat_minor": 2
}
